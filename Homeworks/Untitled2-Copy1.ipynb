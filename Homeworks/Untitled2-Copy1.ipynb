{
 "cells": [
  {
   "cell_type": "code",
   "execution_count": 1,
   "id": "f506cc63",
   "metadata": {},
   "outputs": [],
   "source": [
    "import pandas as pd"
   ]
  },
  {
   "cell_type": "code",
   "execution_count": 2,
   "id": "a0a66d94",
   "metadata": {},
   "outputs": [
    {
     "name": "stdout",
     "output_type": "stream",
     "text": [
      "Requirement already satisfied: pyarrow in ./opt/anaconda3/lib/python3.9/site-packages (15.0.0)\n",
      "Requirement already satisfied: numpy<2,>=1.16.6 in ./opt/anaconda3/lib/python3.9/site-packages (from pyarrow) (1.21.5)\n",
      "Note: you may need to restart the kernel to use updated packages.\n"
     ]
    }
   ],
   "source": [
    "pip install pyarrow"
   ]
  },
  {
   "cell_type": "code",
   "execution_count": 2,
   "id": "84d81643",
   "metadata": {},
   "outputs": [
    {
     "name": "stderr",
     "output_type": "stream",
     "text": [
      "/var/folders/pj/t3kfd5bs2l15bfts13_5krb00000gn/T/ipykernel_21501/1465880531.py:1: DtypeWarning: Columns (3) have mixed types. Specify dtype option on import or set low_memory=False.\n",
      "  df1 = pd.read_csv('/Users/manvithby/Downloads/green_tripdata_2020-10.csv')\n",
      "/var/folders/pj/t3kfd5bs2l15bfts13_5krb00000gn/T/ipykernel_21501/1465880531.py:2: DtypeWarning: Columns (3) have mixed types. Specify dtype option on import or set low_memory=False.\n",
      "  df2 = pd.read_csv('/Users/manvithby/Downloads/green_tripdata_2020-11.csv')\n",
      "/var/folders/pj/t3kfd5bs2l15bfts13_5krb00000gn/T/ipykernel_21501/1465880531.py:3: DtypeWarning: Columns (3) have mixed types. Specify dtype option on import or set low_memory=False.\n",
      "  df3 = pd.read_csv('/Users/manvithby/Downloads/green_tripdata_2020-12.csv')\n"
     ]
    }
   ],
   "source": [
    "df1 = pd.read_csv('/Users/manvithby/Downloads/green_tripdata_2020-10.csv')\n",
    "df2 = pd.read_csv('/Users/manvithby/Downloads/green_tripdata_2020-11.csv')\n",
    "df3 = pd.read_csv('/Users/manvithby/Downloads/green_tripdata_2020-12.csv')"
   ]
  },
  {
   "cell_type": "code",
   "execution_count": 3,
   "id": "b9400dab",
   "metadata": {},
   "outputs": [],
   "source": [
    "df = pd.concat([df1, df2, df3], ignore_index=True)"
   ]
  },
  {
   "cell_type": "code",
   "execution_count": 4,
   "id": "3b303150",
   "metadata": {},
   "outputs": [
    {
     "data": {
      "text/plain": [
       "(266855, 20)"
      ]
     },
     "execution_count": 4,
     "metadata": {},
     "output_type": "execute_result"
    }
   ],
   "source": [
    "df.shape"
   ]
  },
  {
   "cell_type": "code",
   "execution_count": 7,
   "id": "f1e8a36d",
   "metadata": {},
   "outputs": [
    {
     "data": {
      "text/plain": [
       "VendorID                 float64\n",
       "lpep_pickup_datetime      object\n",
       "lpep_dropoff_datetime     object\n",
       "store_and_fwd_flag        object\n",
       "RatecodeID               float64\n",
       "PULocationID               int64\n",
       "DOLocationID               int64\n",
       "passenger_count          float64\n",
       "trip_distance            float64\n",
       "fare_amount              float64\n",
       "extra                    float64\n",
       "mta_tax                  float64\n",
       "tip_amount               float64\n",
       "tolls_amount             float64\n",
       "ehail_fee                float64\n",
       "improvement_surcharge    float64\n",
       "total_amount             float64\n",
       "payment_type             float64\n",
       "trip_type                float64\n",
       "congestion_surcharge     float64\n",
       "dtype: object"
      ]
     },
     "execution_count": 7,
     "metadata": {},
     "output_type": "execute_result"
    }
   ],
   "source": [
    "df.dtypes"
   ]
  },
  {
   "cell_type": "code",
   "execution_count": 10,
   "id": "5716653a",
   "metadata": {},
   "outputs": [],
   "source": [
    "df_final = df[(df['passenger_count'] > 0) & (df['trip_distance'] > 0)]\n",
    "\n",
    "# Resetting the index after filtering\n",
    "df_final.reset_index(drop=True, inplace=True)"
   ]
  },
  {
   "cell_type": "code",
   "execution_count": 11,
   "id": "e46cd4ba",
   "metadata": {},
   "outputs": [
    {
     "data": {
      "text/plain": [
       "(139370, 20)"
      ]
     },
     "execution_count": 11,
     "metadata": {},
     "output_type": "execute_result"
    }
   ],
   "source": [
    "df_final.shape"
   ]
  },
  {
   "cell_type": "code",
   "execution_count": 13,
   "id": "c31469cb",
   "metadata": {},
   "outputs": [
    {
     "data": {
      "text/plain": [
       "array([ 2.,  1., nan])"
      ]
     },
     "execution_count": 13,
     "metadata": {},
     "output_type": "execute_result"
    }
   ],
   "source": [
    "vendor_ids = df['VendorID'].unique()\n",
    "\n",
    "# Display the unique values\n",
    "vendor_ids"
   ]
  },
  {
   "cell_type": "code",
   "execution_count": 14,
   "id": "f8f6e09d",
   "metadata": {},
   "outputs": [
    {
     "name": "stdout",
     "output_type": "stream",
     "text": [
      "Number of columns to be renamed to snake case: 4\n",
      "Columns to be renamed: ['VendorID', 'RatecodeID', 'PULocationID', 'DOLocationID']\n"
     ]
    }
   ],
   "source": [
    "columns_to_rename = [col for col in df.columns if not col.islower() or ' ' in col]\n",
    "num_columns_to_rename = len(columns_to_rename)\n",
    "\n",
    "print(f\"Number of columns to be renamed to snake case: {num_columns_to_rename}\")\n",
    "print(\"Columns to be renamed:\", columns_to_rename)\n"
   ]
  },
  {
   "cell_type": "code",
   "execution_count": 16,
   "id": "cd10541d",
   "metadata": {},
   "outputs": [],
   "source": [
    "# Assuming 'data' is your DataFrame\n",
    "df['lpep_pickup_datetime'] = pd.to_datetime(df['lpep_pickup_datetime'])\n",
    "df['lpep_pickup_date'] = df['lpep_pickup_datetime'].dt.date"
   ]
  },
  {
   "cell_type": "code",
   "execution_count": 17,
   "id": "ee7090d3",
   "metadata": {},
   "outputs": [
    {
     "name": "stdout",
     "output_type": "stream",
     "text": [
      "Number of unique 'lpep_pickup_date' values before export: 96\n"
     ]
    }
   ],
   "source": [
    "# Assuming 'data' is your DataFrame\n",
    "unique_pickup_dates = df['lpep_pickup_date'].unique()\n",
    "\n",
    "# Number of unique values in 'lpep_pickup_date'\n",
    "num_partitions_before_export = len(unique_pickup_dates)\n",
    "\n",
    "print(f\"Number of unique 'lpep_pickup_date' values before export: {num_partitions_before_export}\")"
   ]
  },
  {
   "cell_type": "code",
   "execution_count": null,
   "id": "d708bb66",
   "metadata": {},
   "outputs": [],
   "source": []
  }
 ],
 "metadata": {
  "kernelspec": {
   "display_name": "Python 3 (ipykernel)",
   "language": "python",
   "name": "python3"
  },
  "language_info": {
   "codemirror_mode": {
    "name": "ipython",
    "version": 3
   },
   "file_extension": ".py",
   "mimetype": "text/x-python",
   "name": "python",
   "nbconvert_exporter": "python",
   "pygments_lexer": "ipython3",
   "version": "3.9.13"
  }
 },
 "nbformat": 4,
 "nbformat_minor": 5
}
